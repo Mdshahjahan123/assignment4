{
 "cells": [
  {
   "cell_type": "code",
   "execution_count": null,
   "id": "7a4f89ec",
   "metadata": {},
   "outputs": [],
   "source": [
    "#Q1: Write a Python program to create a lambda function that adds 25 to a given number passed in as an argument.\n",
    "#sample input: 10"
   ]
  },
  {
   "cell_type": "code",
   "execution_count": 9,
   "id": "d68c7b6a",
   "metadata": {},
   "outputs": [
    {
     "name": "stdout",
     "output_type": "stream",
     "text": [
      "35\n"
     ]
    }
   ],
   "source": [
    "x = lambda c : c + 25\n",
    "print(x(10))"
   ]
  },
  {
   "cell_type": "code",
   "execution_count": null,
   "id": "a92a2760",
   "metadata": {},
   "outputs": [],
   "source": [
    "#Q2: Write a Python program to triple all numbers of a given list of integers. Use Python map.\n",
    "#sample list: [1, 2, 3, 4, 5, 6, 7]"
   ]
  },
  {
   "cell_type": "code",
   "execution_count": 2,
   "id": "0ab40a13",
   "metadata": {},
   "outputs": [
    {
     "name": "stdout",
     "output_type": "stream",
     "text": [
      "Original list:  [1, 2, 3, 4, 5, 6, 7]\n",
      "\n",
      "Triple of list numbers:\n",
      "[3, 6, 9, 12, 15, 18, 21]\n"
     ]
    }
   ],
   "source": [
    "Original_nums = [1, 2, 3, 4, 5, 6, 7] \n",
    "print(\"Original list: \", Original_nums)\n",
    "final = map(lambda x: x + x + x, Original_nums) \n",
    "print(\"\\nTriple of list numbers:\")\n",
    "print(list(final))"
   ]
  },
  {
   "cell_type": "code",
   "execution_count": null,
   "id": "cd32c808",
   "metadata": {},
   "outputs": [],
   "source": [
    "#Q3: Write a Python program to square the elements of a list using map() function.\n",
    "#Sample List: [4, 5, 2, 9]"
   ]
  },
  {
   "cell_type": "code",
   "execution_count": 7,
   "id": "71d7aa6a",
   "metadata": {},
   "outputs": [
    {
     "name": "stdout",
     "output_type": "stream",
     "text": [
      "Original List:  [4, 5, 2, 9]\n",
      "Square the elements of the list using map():\n",
      "[16, 25, 4, 81]\n"
     ]
    }
   ],
   "source": [
    "def square_number(z):\n",
    "  return z * z\n",
    "number = [4, 5, 2, 9]\n",
    "print(\"Original List: \",number)\n",
    "result = map(square_number, number)\n",
    "print(\"Square the elements of the list using map():\")\n",
    "print(list(result))"
   ]
  },
  {
   "cell_type": "code",
   "execution_count": null,
   "id": "78b437ef",
   "metadata": {},
   "outputs": [],
   "source": []
  }
 ],
 "metadata": {
  "kernelspec": {
   "display_name": "Python 3 (ipykernel)",
   "language": "python",
   "name": "python3"
  },
  "language_info": {
   "codemirror_mode": {
    "name": "ipython",
    "version": 3
   },
   "file_extension": ".py",
   "mimetype": "text/x-python",
   "name": "python",
   "nbconvert_exporter": "python",
   "pygments_lexer": "ipython3",
   "version": "3.9.6"
  }
 },
 "nbformat": 4,
 "nbformat_minor": 5
}
